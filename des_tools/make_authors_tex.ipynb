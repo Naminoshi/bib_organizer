{
 "cells": [
  {
   "cell_type": "code",
   "execution_count": null,
   "metadata": {},
   "outputs": [],
   "source": [
    "import numpy as np\n",
    "from astropy.table import Table"
   ]
  },
  {
   "cell_type": "code",
   "execution_count": null,
   "metadata": {},
   "outputs": [],
   "source": [
    "def smart_split(line):\n",
    "    if '\"' not in line:\n",
    "        return line.split(',')\n",
    "    out = []\n",
    "    for l in line.split('\"'):\n",
    "        if len(l)==0:\n",
    "            out.append(l)\n",
    "        elif l[-1] == ',':\n",
    "                out += l.split(',')[:-1]\n",
    "        else:\n",
    "                out.append(l)\n",
    "    return out"
   ]
  },
  {
   "cell_type": "code",
   "execution_count": null,
   "metadata": {},
   "outputs": [],
   "source": [
    "def fmt_firstname(firstname):\n",
    "    out = []\n",
    "    for n in firstname.split(' '): \n",
    "        if '.' in n:\n",
    "            out.append()\n",
    "        else:\n",
    "            out += n[0]"
   ]
  },
  {
   "cell_type": "code",
   "execution_count": null,
   "metadata": {},
   "outputs": [],
   "source": [
    "def prt_command(itemlist):\n",
    "    return '\\n    \\\\and\\n'.join([f'    {a}' for a in itemlist])"
   ]
  },
  {
   "cell_type": "code",
   "execution_count": null,
   "metadata": {},
   "outputs": [],
   "source": [
    "data = open('other_files/DES-2017-0241_author_list.csv').readlines()\n",
    "data = [d.replace('\\n', '') for d in data]"
   ]
  },
  {
   "cell_type": "code",
   "execution_count": null,
   "metadata": {},
   "outputs": [],
   "source": [
    "data2 = []\n",
    "for d in data[:]:\n",
    "    #print(d)\n",
    "    data2.append(smart_split(d))\n",
    "data2 = Table(np.array(data2[1:]), names=data2[0])"
   ]
  },
  {
   "cell_type": "code",
   "execution_count": null,
   "metadata": {},
   "outputs": [],
   "source": [
    "len(set(data2['Lastname'])), len(set([d['Firstname']+d['Lastname'] for d in data2]))"
   ]
  },
  {
   "cell_type": "code",
   "execution_count": null,
   "metadata": {},
   "outputs": [],
   "source": [
    "'''\n",
    "{M. Aguena \\inst{1}\n",
    "    C. Benoist   \\inst{1,2}%\\thanks{e-mail:Christophe.Benoist@oca.eu}\n",
    "    L.N. da Costa \\inst{1, 3}\n",
    "    R.L.C. Ogando \\inst{1, 3}\n",
    "    J. Gschwend \\inst{1, 3}\n",
    "    H. dos Santos \\inst{1, 3}\n",
    "    M. Lima \\inst{1, 4}\n",
    "    M.A.G. Maia \\inst{1, 3}\n",
    "%\n",
    "   \\institute{\n",
    "    Laborat\\'orio Interinstitucional de e-Astronomia - LIneA, Rua General Jos\\'e Cristino, 77, Rio de Janeiro, RJ, 20921-400, Brazil\n",
    "        \\and\n",
    "   Université C\\^{o}te d'Azur, OCA, CNRS, Lagrange, UMR 7293, CS 34229, 06304, Nice Cedex 4, France\n",
    "        \\and\n",
    "    Observat\\'orio Nacional, Rua General Jos\\'e Cristino, 77, Rio de Janeiro, RJ, 20921-400, Brazil\n",
    "        \\and\n",
    "    Departamento de F\\'isica Matem\\'atica, Instituto de F\\'isica, Universidade de S\\~ao Paulo, Rua do Mat\\~ao, 1371, S\\~ao Paulo, SP, 05508-090, Brazil\n",
    "    '''\n"
   ]
  },
  {
   "cell_type": "code",
   "execution_count": null,
   "metadata": {},
   "outputs": [],
   "source": [
    "for i in (-1, 1, 5, 10):\n",
    "    print(data2['Affiliation'][i])"
   ]
  },
  {
   "cell_type": "code",
   "execution_count": null,
   "metadata": {},
   "outputs": [],
   "source": [
    "main_authors = ['Aguena', 'Benoist', 'da Costa', 'Ogando', 'Gschwend', 'Sampaio dos Santos', 'Lima', 'Maia']\n",
    "other_authors = sorted(set([a for a in data2['Lastname'] if a not in main_authors]))\n",
    "authors = main_authors+other_authors"
   ]
  },
  {
   "cell_type": "code",
   "execution_count": null,
   "metadata": {},
   "outputs": [],
   "source": [
    "main_affiliation = [data2['Affiliation'][i] for i in (-1, 1, 5, 10)]\n",
    "other_affiliation = []\n",
    "for author in other_authors:\n",
    "    for af in data2['Affiliation'][data2['Lastname']==author]:\n",
    "        if af not in main_affiliation and af not in other_affiliation and af!='':\n",
    "            other_affiliation.append(af)\n",
    "\n",
    "affiliations = main_affiliation+other_affiliation\n",
    "affiliation_dict = {af:f'{i+1:d}' for i, af in enumerate(affiliations)}"
   ]
  },
  {
   "cell_type": "code",
   "execution_count": null,
   "metadata": {},
   "outputs": [],
   "source": [
    "affiliations"
   ]
  },
  {
   "cell_type": "code",
   "execution_count": null,
   "metadata": {},
   "outputs": [],
   "source": [
    "author_txt = []\n",
    "for author in authors:\n",
    "    aff = [affiliation_dict[dat] for dat in \n",
    "            data2['Affiliation'][data2['Lastname']==author] if dat!='']\n",
    "    firstname = ''.join([f'{n[0]}.' for n in\n",
    "                 data2['Firstname'][data2['Lastname']==author][0].split(' ')\n",
    "                 if n[0].upper()==n[0]])\n",
    "    author_txt.append(f\"{firstname} {author} \\\\inst{{{','.join(sorted(aff))}}}\")"
   ]
  },
  {
   "cell_type": "code",
   "execution_count": null,
   "metadata": {},
   "outputs": [],
   "source": [
    "author_txt"
   ]
  },
  {
   "cell_type": "code",
   "execution_count": null,
   "metadata": {},
   "outputs": [],
   "source": [
    "out = '''\\\\author{\n",
    "%s\n",
    "}\n",
    "\\\\institute{\n",
    "%s\n",
    "}'''%(prt_command(author_txt), prt_command(affiliations))"
   ]
  },
  {
   "cell_type": "code",
   "execution_count": null,
   "metadata": {},
   "outputs": [],
   "source": [
    "f = open('authors.tex', 'w')\n",
    "print(out, file=f)\n",
    "f.close()"
   ]
  },
  {
   "cell_type": "code",
   "execution_count": null,
   "metadata": {},
   "outputs": [],
   "source": [
    "for d in data2['Firstname']:\n",
    "    if len(d.split(' '))>1:\n",
    "        print(d)"
   ]
  },
  {
   "cell_type": "code",
   "execution_count": null,
   "metadata": {},
   "outputs": [],
   "source": [
    "data2.colnames"
   ]
  },
  {
   "cell_type": "code",
   "execution_count": null,
   "metadata": {},
   "outputs": [],
   "source": [
    "emails = [data2['Email'][data2['Lastname']==author][0] for author in authors]"
   ]
  },
  {
   "cell_type": "code",
   "execution_count": null,
   "metadata": {},
   "outputs": [],
   "source": [
    "emails"
   ]
  },
  {
   "cell_type": "code",
   "execution_count": null,
   "metadata": {},
   "outputs": [],
   "source": [
    "len(authors), len(emails)"
   ]
  },
  {
   "cell_type": "code",
   "execution_count": null,
   "metadata": {},
   "outputs": [],
   "source": [
    "f = open('emails.txt', 'w')\n",
    "for e in emails:\n",
    "    print(e, file=f)\n",
    "f.close()"
   ]
  },
  {
   "cell_type": "code",
   "execution_count": null,
   "metadata": {},
   "outputs": [],
   "source": []
  }
 ],
 "metadata": {
  "kernelspec": {
   "display_name": "science",
   "language": "python",
   "name": "science"
  },
  "language_info": {
   "codemirror_mode": {
    "name": "ipython",
    "version": 3
   },
   "file_extension": ".py",
   "mimetype": "text/x-python",
   "name": "python",
   "nbconvert_exporter": "python",
   "pygments_lexer": "ipython3",
   "version": "3.6.8"
  }
 },
 "nbformat": 4,
 "nbformat_minor": 2
}
